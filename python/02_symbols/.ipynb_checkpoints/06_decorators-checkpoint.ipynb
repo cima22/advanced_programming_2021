{
 "cells": [
  {
   "cell_type": "markdown",
   "metadata": {},
   "source": [
    "##  Decorators"
   ]
  },
  {
   "cell_type": "code",
   "execution_count": 1,
   "metadata": {},
   "outputs": [
    {
     "name": "stdout",
     "output_type": "stream",
     "text": [
      "apply decorate1\n",
      "hello, world!\n",
      "apply decorate1\n",
      "bye bye\n"
     ]
    }
   ],
   "source": [
    "def decorate1(func):\n",
    "    def inner():\n",
    "        print(\"apply decorate1\")\n",
    "        r = func()\n",
    "        return r\n",
    "\n",
    "    return inner\n",
    "\n",
    "\n",
    "@decorate1\n",
    "def hello():\n",
    "    \"\"\"doc di hello\"\"\"\n",
    "    print(\"hello, world!\")\n",
    "\n",
    "\n",
    "@decorate1\n",
    "def bye():\n",
    "    print(\"bye bye\")\n",
    "\n",
    "\n",
    "hello()\n",
    "bye()"
   ]
  },
  {
   "cell_type": "code",
   "execution_count": 3,
   "metadata": {},
   "outputs": [
    {
     "name": "stdout",
     "output_type": "stream",
     "text": [
      "Help on function inner in module __main__:\n",
      "\n",
      "inner()\n",
      "\n"
     ]
    }
   ],
   "source": [
    "help(hello)"
   ]
  },
  {
   "cell_type": "code",
   "execution_count": 4,
   "metadata": {},
   "outputs": [
    {
     "name": "stdout",
     "output_type": "stream",
     "text": [
      "decorate 1\n",
      "hello, world!\n",
      "pippo\n"
     ]
    }
   ],
   "source": [
    "def decorate1(func):\n",
    "    def inner():\n",
    "        print(\"decorate 1\")\n",
    "        r = func()\n",
    "        # ...\n",
    "        return r\n",
    "\n",
    "    return inner\n",
    "\n",
    "\n",
    "def hello():\n",
    "    print(\"hello, world!\")\n",
    "    return \"pippo\"\n",
    "\n",
    "\n",
    "hello = decorate1(hello)  # what @decorate1 does\n",
    "\n",
    "a = hello()  # executes inner\n",
    "print(a)"
   ]
  },
  {
   "cell_type": "code",
   "execution_count": null,
   "metadata": {},
   "outputs": [],
   "source": [
    "help(hello)"
   ]
  },
  {
   "cell_type": "code",
   "execution_count": 5,
   "metadata": {},
   "outputs": [
    {
     "name": "stdout",
     "output_type": "stream",
     "text": [
      "decorate 1\n",
      "apply decorate2\n",
      "hello, world!\n"
     ]
    }
   ],
   "source": [
    "def decorate2(func):\n",
    "    def inner():\n",
    "        print(\"apply decorate2\")\n",
    "        r = func()\n",
    "        return r\n",
    "\n",
    "    return inner\n",
    "\n",
    "\n",
    "@decorate1\n",
    "@decorate2\n",
    "def hello12():\n",
    "    print(\"hello, world!\")\n",
    "\n",
    "\n",
    "hello12()  # same as hello12 = decorate1(decorate2(hello12))"
   ]
  },
  {
   "cell_type": "code",
   "execution_count": 6,
   "metadata": {},
   "outputs": [
    {
     "name": "stdout",
     "output_type": "stream",
     "text": [
      "apply decorate2\n",
      "decorate 1\n",
      "hello, world!\n"
     ]
    }
   ],
   "source": [
    "@decorate2\n",
    "@decorate1\n",
    "def hello21():\n",
    "    print(\"hello, world!\")\n",
    "\n",
    "\n",
    "hello21()  # same as hello21 = decorate2(decorate1(hello21))"
   ]
  },
  {
   "cell_type": "markdown",
   "metadata": {},
   "source": [
    "### Remember to use `@functools.wraps`"
   ]
  },
  {
   "cell_type": "code",
   "execution_count": 7,
   "metadata": {},
   "outputs": [
    {
     "name": "stdout",
     "output_type": "stream",
     "text": [
      "Help on function hello in module __main__:\n",
      "\n",
      "hello()\n",
      "    doc for hello\n",
      "\n"
     ]
    }
   ],
   "source": [
    "import functools\n",
    "\n",
    "\n",
    "def decorate1(func):\n",
    "    @functools.wraps(func)\n",
    "    def inner():\n",
    "        print(\"apply decorate1\")\n",
    "        func()\n",
    "\n",
    "    return inner\n",
    "\n",
    "\n",
    "@decorate1\n",
    "def hello():\n",
    "    \"doc for hello\"\n",
    "    print(\"hello, world!\")\n",
    "\n",
    "\n",
    "help(hello)"
   ]
  },
  {
   "cell_type": "code",
   "execution_count": 9,
   "metadata": {},
   "outputs": [],
   "source": [
    "hello??"
   ]
  },
  {
   "cell_type": "code",
   "execution_count": 10,
   "metadata": {},
   "outputs": [],
   "source": [
    "hello.__doc__ = \"pippo\""
   ]
  },
  {
   "cell_type": "code",
   "execution_count": 11,
   "metadata": {},
   "outputs": [
    {
     "name": "stdout",
     "output_type": "stream",
     "text": [
      "Help on function hello in module __main__:\n",
      "\n",
      "hello()\n",
      "    pippo\n",
      "\n"
     ]
    }
   ],
   "source": [
    "help(hello)"
   ]
  },
  {
   "cell_type": "markdown",
   "metadata": {},
   "source": [
    "###  How to pass arguments to the inner function"
   ]
  },
  {
   "cell_type": "code",
   "execution_count": 12,
   "metadata": {},
   "outputs": [],
   "source": [
    "# adapted from Fluent Python\n",
    "import functools\n",
    "\n",
    "\n",
    "def args_to_string(*args, **kw):\n",
    "    arg_str = ()\n",
    "    if args:\n",
    "        arg_str += ((\",\".join(str(arg) for arg in args)),)\n",
    "    if kw:\n",
    "        arg_str += ((\", \".join((\"{0}={1}\".format(k, v) for k, v in kw.items()))),)\n",
    "    return \",\".join(a for a in arg_str)"
   ]
  },
  {
   "cell_type": "code",
   "execution_count": 13,
   "metadata": {},
   "outputs": [
    {
     "name": "stdout",
     "output_type": "stream",
     "text": [
      "wait(0.3):[0.30039343 s]\n",
      "factorial(1):[0.00000135 s]\n",
      "factorial(2):[0.00009355 s]\n",
      "factorial(3):[0.00110464 s]\n",
      "factorial(4):[0.00119321 s]\n",
      "factorial(5):[0.00125225 s]\n",
      "factorial(6):[0.00129426 s]\n",
      "factorial(7):[0.00136144 s]\n",
      "factorial(8):[0.00140985 s]\n",
      "factorial(9):[0.00145618 s]\n",
      "factorial(10):[0.00149817 s]\n",
      "sum(4,5):[0.00000207 s]\n",
      "dummy(pos,second,a=a, b=b):[0.00000440 s]\n"
     ]
    }
   ],
   "source": [
    "from time import perf_counter, sleep\n",
    "\n",
    "\n",
    "def time_this(func):\n",
    "    @functools.wraps(func)\n",
    "    def decorated(*args, **kw):\n",
    "        t0 = perf_counter()\n",
    "        result = func(*args, **kw)\n",
    "        t1 = perf_counter()\n",
    "        name = func.__name__\n",
    "        arg_str = args_to_string(*args, **kw)\n",
    "        # print('{}({}): [{:0.8f}]'.format(name, arg_str,t1-t0))\n",
    "        # print('%s(%s): [%0.8f s]' % (name, arg_str, t1-t0))\n",
    "        print(f\"{name}({arg_str}):[{t1-t0:0.8f} s]\")\n",
    "        return result\n",
    "\n",
    "    return decorated\n",
    "\n",
    "\n",
    "@time_this\n",
    "def wait(seconds):\n",
    "    sleep(seconds)\n",
    "\n",
    "\n",
    "@functools.lru_cache()  # <-- note () # parametrized decorators\n",
    "@time_this\n",
    "def factorial(n):\n",
    "    return 1 if n < 2 else n * factorial(n - 1)\n",
    "\n",
    "\n",
    "@time_this\n",
    "def sum(a, b):\n",
    "    return a + b\n",
    "\n",
    "\n",
    "@time_this\n",
    "def dummy(*args, **kw):\n",
    "    a = args\n",
    "    b = kw\n",
    "\n",
    "\n",
    "wait(0.3)\n",
    "factorial(10)\n",
    "sum(4, 5)\n",
    "dummy(\"pos\", \"second\", a=\"a\", b=\"b\")"
   ]
  },
  {
   "cell_type": "code",
   "execution_count": 15,
   "metadata": {},
   "outputs": [
    {
     "name": "stdout",
     "output_type": "stream",
     "text": [
      "factorial(11):[0.00000063 s]\n",
      "factorial(12):[0.00012053 s]\n"
     ]
    },
    {
     "data": {
      "text/plain": [
       "479001600"
      ]
     },
     "execution_count": 15,
     "metadata": {},
     "output_type": "execute_result"
    }
   ],
   "source": [
    "factorial(12)"
   ]
  },
  {
   "cell_type": "code",
   "execution_count": 16,
   "metadata": {},
   "outputs": [
    {
     "name": "stdout",
     "output_type": "stream",
     "text": [
      "going to sleep for 0.4 seconds\n",
      "woke up!\n",
      "wait(0.4):[0.40082986 s]\n"
     ]
    }
   ],
   "source": [
    "def parametrized_time_this(check=True):\n",
    "    def decorator(func):\n",
    "        if not check:\n",
    "            return func\n",
    "\n",
    "        @functools.wraps(func)\n",
    "        def decorated(*args, **kw):\n",
    "            t0 = perf_counter()\n",
    "            result = func(*args, **kw)\n",
    "            t1 = perf_counter()\n",
    "            name = func.__name__\n",
    "            arg_str = args_to_string(*args, **kw)\n",
    "            print(f\"{name}({arg_str}):[{t1-t0:0.8f} s]\")\n",
    "            return result\n",
    "\n",
    "        return decorated\n",
    "\n",
    "    return decorator  # <-- returns the actual decorator\n",
    "\n",
    "\n",
    "debug = True\n",
    "\n",
    "\n",
    "@parametrized_time_this(debug)\n",
    "def wait(seconds):\n",
    "    print(\"going to sleep for\", seconds, \"seconds\")\n",
    "    sleep(seconds)\n",
    "    print(\"woke up!\")\n",
    "\n",
    "\n",
    "wait(0.4)"
   ]
  },
  {
   "cell_type": "markdown",
   "metadata": {},
   "source": [
    "### Decorators as function objects"
   ]
  },
  {
   "cell_type": "code",
   "execution_count": 17,
   "metadata": {},
   "outputs": [
    {
     "name": "stdout",
     "output_type": "stream",
     "text": [
      "going to sleep for 0.4 seconds\n",
      "woke up!\n",
      "wait(0.4):[0.40051455 s]\n"
     ]
    }
   ],
   "source": [
    "class TimeThis:\n",
    "    def __init__(self, func):  # <--\n",
    "        self._func = func  # <--\n",
    "        functools.update_wrapper(self, func)  # <--\n",
    "\n",
    "    def __call__(self, *args, **kw):\n",
    "        t0 = perf_counter()\n",
    "        result = self._func(*args, **kw)  # <--\n",
    "        t1 = perf_counter()\n",
    "        name = self._func.__name__  # <--\n",
    "        arg_str = args_to_string(*args, **kw)\n",
    "        print(f\"{name}({arg_str}):[{t1-t0:0.8f} s]\")\n",
    "\n",
    "        return result\n",
    "\n",
    "\n",
    "@TimeThis\n",
    "def wait(seconds):\n",
    "    \"doc\"\n",
    "    print(\"going to sleep for\", seconds, \"seconds\")\n",
    "    sleep(seconds)\n",
    "    print(\"woke up!\")\n",
    "\n",
    "\n",
    "wait(0.4)"
   ]
  },
  {
   "cell_type": "code",
   "execution_count": 18,
   "metadata": {},
   "outputs": [],
   "source": [
    "wait??"
   ]
  },
  {
   "cell_type": "code",
   "execution_count": 19,
   "metadata": {},
   "outputs": [
    {
     "name": "stdout",
     "output_type": "stream",
     "text": [
      "going to sleep for 0.4 seconds\n",
      "woke up!\n",
      "wrapper(0.4):[0.40202144 s]\n"
     ]
    }
   ],
   "source": [
    "class ParametrizedTimeThis:\n",
    "    def __init__(self, check=True):\n",
    "        self.check = check\n",
    "\n",
    "    def __call__(self, func):\n",
    "        if self.check:\n",
    "            # return TimeThis(func)\n",
    "\n",
    "            @functools.wraps(func)\n",
    "            @TimeThis\n",
    "            def wrapper(*args, **kwargs):\n",
    "                return func(*args, **kwargs)\n",
    "\n",
    "            return wrapper\n",
    "        return func\n",
    "\n",
    "\n",
    "@ParametrizedTimeThis(True)\n",
    "def wait(seconds):\n",
    "    print(\"going to sleep for\", seconds, \"seconds\")\n",
    "    sleep(seconds)\n",
    "    print(\"woke up!\")\n",
    "\n",
    "\n",
    "wait(0.4)"
   ]
  },
  {
   "cell_type": "code",
   "execution_count": null,
   "metadata": {},
   "outputs": [],
   "source": [
    "wait??"
   ]
  },
  {
   "cell_type": "code",
   "execution_count": 20,
   "metadata": {},
   "outputs": [
    {
     "name": "stdout",
     "output_type": "stream",
     "text": [
      "wrapper(0.4):[0.00000090 s]\n"
     ]
    }
   ],
   "source": [
    "PTT = ParametrizedTimeThis(True)\n",
    "\n",
    "\n",
    "@PTT\n",
    "def dummy(*args, **kw):\n",
    "    pass\n",
    "\n",
    "\n",
    "dummy(0.4)"
   ]
  },
  {
   "cell_type": "code",
   "execution_count": null,
   "metadata": {},
   "outputs": [],
   "source": [
    "dummy??"
   ]
  }
 ],
 "metadata": {
  "kernelspec": {
   "display_name": "Python 3 (ipykernel)",
   "language": "python",
   "name": "python3"
  },
  "language_info": {
   "codemirror_mode": {
    "name": "ipython",
    "version": 3
   },
   "file_extension": ".py",
   "mimetype": "text/x-python",
   "name": "python",
   "nbconvert_exporter": "python",
   "pygments_lexer": "ipython3",
   "version": "3.10.4"
  }
 },
 "nbformat": 4,
 "nbformat_minor": 4
}
